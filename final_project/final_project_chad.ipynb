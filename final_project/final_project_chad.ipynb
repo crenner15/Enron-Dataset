{
 "cells": [
  {
   "cell_type": "markdown",
   "metadata": {},
   "source": [
    "# Enron Persons of Interest Analysis\n",
    "By: Chad-Michael Renner"
   ]
  },
  {
   "cell_type": "markdown",
   "metadata": {},
   "source": [
    "# Project Overview"
   ]
  },
  {
   "cell_type": "markdown",
   "metadata": {},
   "source": [
    "In 2000, Enron was one of the largest companies in the United States. By 2002, it had collapsed into bankruptcy due to widespread corporate fraud. In the resulting Federal investigation, there was a significant amount of typically confidential information entered into public record, including tens of thousands of emails and detailed financial data for top executives.\n",
    "\n",
    "In this project, I will be building a machine learning algorythm to analyze this data and find certain persons of interest (POI). During this analysis I will be going through 6 separate steps, 7 if you count importing the data.  These steps include: \n",
    " 1. Select features\n",
    " 2. Remove Outliers\n",
    " 3. Create new feature(s)\n",
    " 4. Try a varity of classifiers\n",
    " 5. Tune classifier\n",
    " 6. Algorythm and Validation"
   ]
  },
  {
   "cell_type": "markdown",
   "metadata": {
    "deletable": true,
    "editable": true
   },
   "source": [
    "# Import and load Data"
   ]
  },
  {
   "cell_type": "code",
   "execution_count": 1,
   "metadata": {
    "collapsed": false,
    "deletable": true,
    "editable": true
   },
   "outputs": [
    {
     "name": "stderr",
     "output_type": "stream",
     "text": [
      "/Users/crenner15/anaconda/lib/python2.7/site-packages/sklearn/cross_validation.py:44: DeprecationWarning: This module was deprecated in version 0.18 in favor of the model_selection module into which all the refactored classes and functions are moved. Also note that the interface of the new CV iterators are different from that of this module. This module will be removed in 0.20.\n",
      "  \"This module will be removed in 0.20.\", DeprecationWarning)\n",
      "/Users/crenner15/anaconda/lib/python2.7/site-packages/sklearn/grid_search.py:43: DeprecationWarning: This module was deprecated in version 0.18 in favor of the model_selection module into which all the refactored classes and functions are moved. This module will be removed in 0.20.\n",
      "  DeprecationWarning)\n"
     ]
    }
   ],
   "source": [
    "#!/usr/bin/python\n",
    "import pprint\n",
    "import matplotlib.pyplot as plt\n",
    "from sklearn import preprocessing\n",
    "from time import time\n",
    "from sklearn.naive_bayes import GaussianNB\n",
    "from sklearn.metrics import accuracy_score\n",
    "from sklearn.grid_search import GridSearchCV\n",
    "from sklearn.metrics import precision_score\n",
    "from sklearn.metrics import recall_score\n",
    "\n",
    "import sys\n",
    "import pickle\n",
    "sys.path.append(\"../tools/\")\n",
    "\n",
    "from feature_format import featureFormat, targetFeatureSplit\n",
    "from tester import dump_classifier_and_data\n",
    "\n",
    "### Load the dictionary containing the dataset\n",
    "with open(\"final_project_dataset.pkl\", \"r\") as data_file:\n",
    "    data_dict = pickle.load(data_file)"
   ]
  },
  {
   "cell_type": "markdown",
   "metadata": {
    "deletable": true,
    "editable": true
   },
   "source": [
    "# Task 1: Select what features you'll use."
   ]
  },
  {
   "cell_type": "code",
   "execution_count": 13,
   "metadata": {
    "collapsed": false,
    "deletable": true,
    "editable": true
   },
   "outputs": [
    {
     "name": "stdout",
     "output_type": "stream",
     "text": [
      "Data points:\t\t145\n",
      "no of POIs:\t\t0\n",
      "no of non POIs:\t\t0\n",
      "POI ratio:\t\t0\n",
      "Total features:\t\t23\n",
      "Financial features:\t11\n",
      "Email features:\t\t6\n",
      "\n"
     ]
    }
   ],
   "source": [
    "# Explore dataset\n",
    "financial_features = ['poi', 'salary', 'total_payments', 'bonus', 'deferred_income', 'total_stock_value', 'expenses', 'exercised_stock_options', 'other', 'long_term_incentive', 'restricted_stock']\n",
    "email_features = ['poi', 'to_messages', 'from_poi_to_this_person', 'from_messages', 'from_this_person_to_poi', 'shared_receipt_with_poi']\n",
    "data_points = len(data_dict)\n",
    "poi_count = 0\n",
    "non_poi_count = 0\n",
    "print \"Data points:\\t\\t\", data_points\n",
    "print \"no of POIs:\\t\\t\", poi_count\n",
    "print \"no of non POIs:\\t\\t\", non_poi_count\n",
    "print \"POI ratio:\\t\\t\", poi_count/data_points\n",
    "print \"Total features:\\t\\t\", len(data_dict[data_dict.keys()[0]])\n",
    "print \"Financial features:\\t\", len(financial_features)\n",
    "print \"Email features:\\t\\t\", len(email_features)\n",
    "print \"\""
   ]
  },
  {
   "cell_type": "markdown",
   "metadata": {},
   "source": [
    "Here I am checking the features of the data set and splitting them into two categories.  Financial_features takes in all associated financial data and email_features takes in all features associated with emails.  As you can see from the print statements, there are 146 data points (executives) in the POI data with 21 total features.  Of those features, 11 are associated with the financial features and 6 are associated with email features."
   ]
  },
  {
   "cell_type": "code",
   "execution_count": 14,
   "metadata": {
    "collapsed": false,
    "deletable": true,
    "editable": true
   },
   "outputs": [
    {
     "data": {
      "text/plain": [
       "{'bonus': {'count': 64, 'poi': 2},\n",
       " 'deferral_payments': {'count': 107, 'poi': 13},\n",
       " 'deferred_income': {'count': 97, 'poi': 7},\n",
       " 'director_fees': {'count': 129, 'poi': 18},\n",
       " 'email_address': {'count': 34, 'poi': 0},\n",
       " 'exercised_stock_options': {'count': 44, 'poi': 6},\n",
       " 'expenses': {'count': 51, 'poi': 0},\n",
       " 'from_messages': {'count': 59, 'poi': 4},\n",
       " 'from_poi_to_this_person': {'count': 59, 'poi': 4},\n",
       " 'from_this_person_to_poi': {'count': 59, 'poi': 4},\n",
       " 'loan_advances': {'count': 142, 'poi': 17},\n",
       " 'long_term_incentive': {'count': 80, 'poi': 6},\n",
       " 'other': {'count': 53, 'poi': 0},\n",
       " 'restricted_stock': {'count': 36, 'poi': 1},\n",
       " 'restricted_stock_deferred': {'count': 128, 'poi': 18},\n",
       " 'salary': {'count': 51, 'poi': 1},\n",
       " 'shared_receipt_with_poi': {'count': 59, 'poi': 4},\n",
       " 'to_messages': {'count': 59, 'poi': 4},\n",
       " 'total_payments': {'count': 21, 'poi': 0},\n",
       " 'total_stock_value': {'count': 20, 'poi': 0}}"
      ]
     },
     "execution_count": 14,
     "metadata": {},
     "output_type": "execute_result"
    }
   ],
   "source": [
    "# check for missing values\n",
    "missing_value_map = { 'bonus': {'count':0, 'poi':0}, 'deferral_payments': {'count':0, 'poi':0},\n",
    "    'deferred_income': {'count':0, 'poi':0},'director_fees': {'count':0, 'poi':0},\n",
    "    'exercised_stock_options': {'count':0, 'poi':0}, 'total_payments': {'count':0, 'poi':0},\n",
    "    'expenses': {'count':0, 'poi':0}, 'loan_advances': {'count':0, 'poi':0},\n",
    "    'long_term_incentive': {'count':0, 'poi':0}, 'restricted_stock_deferred': {'count':0, 'poi':0},\n",
    "    'other': {'count':0, 'poi':0}, 'restricted_stock': {'count':0, 'poi':0},\n",
    "    'total_stock_value': {'count':0, 'poi':0}, 'salary': {'count':0, 'poi':0},\n",
    "    'email_address': {'count':0, 'poi':0}, 'from_messages': {'count':0, 'poi':0},\n",
    "    'from_poi_to_this_person': {'count':0, 'poi':0}, 'shared_receipt_with_poi': {'count':0, 'poi':0},\n",
    "    'from_this_person_to_poi': {'count':0, 'poi':0}, 'to_messages': {'count':0, 'poi':0} }\n",
    "\n",
    "for person, features in data_dict.iteritems():\n",
    "    isPoi = False\n",
    "    if features['poi'] == True:\n",
    "        poi_count += 1\n",
    "        isPoi = True\n",
    "    else:\n",
    "        non_poi_count += 1\n",
    "    for name, value in features.iteritems():\n",
    "        if value == 'NaN':\n",
    "            missing_value_map[name]['count'] += 1\n",
    "            if isPoi:\n",
    "                missing_value_map[name]['poi'] += 1\n",
    "\n",
    "missing_value_map"
   ]
  },
  {
   "cell_type": "markdown",
   "metadata": {},
   "source": [
    "To check for any missing data, I checked through each of the 146 executived and counted the number of NaN values in the data and also the number of POI's with missing data for each feature."
   ]
  },
  {
   "cell_type": "code",
   "execution_count": 15,
   "metadata": {
    "collapsed": false,
    "deletable": true,
    "editable": true
   },
   "outputs": [
    {
     "name": "stdout",
     "output_type": "stream",
     "text": [
      "Feature                   missing              poi       \n",
      "salary                    51                   1         \n",
      "shared_receipt_with_poi   59                   4         \n",
      "deferral_payments         107                  13        \n",
      "total_payments            21                   0         \n",
      "loan_advances             142                  17        \n",
      "bonus                     64                   2         \n",
      "email_address             34                   0         \n",
      "restricted_stock_deferred 128                  18        \n",
      "total_stock_value         20                   0         \n",
      "expenses                  51                   0         \n",
      "from_poi_to_this_person   59                   4         \n",
      "exercised_stock_options   44                   6         \n",
      "from_messages             59                   4         \n",
      "other                     53                   0         \n",
      "to_messages               59                   4         \n",
      "from_this_person_to_poi   59                   4         \n",
      "deferred_income           97                   7         \n",
      "long_term_incentive       80                   6         \n",
      "restricted_stock          36                   1         \n",
      "director_fees             129                  18        \n",
      "\n",
      "Features with >50% missing values: []\n",
      "\n",
      "Features with pois with >50% missing values: ['restricted_stock_deferred', 'director_fees']\n",
      "\n"
     ]
    }
   ],
   "source": [
    "#Find features with more than 50% of missing values\n",
    "significant_missing_values = []\n",
    "significant_poi_values = []\n",
    "print \"{:<25} {:<20} {:<10}\".format('Feature','missing','poi')\n",
    "for feature, values in missing_value_map.iteritems():\n",
    "    missing_ratio = values['count']/data_points\n",
    "    if missing_ratio > 0.5:\n",
    "        significant_missing_values.append(feature)\n",
    "    poi_ratio = values['poi']/poi_count\n",
    "    if poi_ratio > 0.5:\n",
    "        significant_poi_values.append(feature)\n",
    "    print \"{:<25} {:<20} {:<10}\".format(feature, values['count'], values['poi'])\n",
    "\n",
    "print \"\"\n",
    "print \"Features with >50% missing values:\", significant_missing_values\n",
    "print \"\"\n",
    "print \"Features with pois with >50% missing values:\", significant_poi_values\n",
    "print \"\""
   ]
  },
  {
   "cell_type": "markdown",
   "metadata": {},
   "source": [
    "Features that have a poi with greater than 50% missing values is restricted stock deffered and director fees.  These missing values can mostly be attributed to the fact that not every one of the directors received these financial features for their work."
   ]
  },
  {
   "cell_type": "markdown",
   "metadata": {
    "deletable": true,
    "editable": true
   },
   "source": [
    "# Task 2: Remove outliers"
   ]
  },
  {
   "cell_type": "code",
   "execution_count": 16,
   "metadata": {
    "collapsed": false,
    "deletable": true,
    "editable": true
   },
   "outputs": [
    {
     "data": {
      "image/png": "[encoded data removed]",
      "text/plain": [
       "<matplotlib.figure.Figure at 0x10de14d90>"
      ]
     },
     "metadata": {},
     "output_type": "display_data"
    },
    {
     "data": {
      "image/png": "[encoded data removed]",
      "text/plain": [
       "<matplotlib.figure.Figure at 0x10dd6d250>"
      ]
     },
     "metadata": {},
     "output_type": "display_data"
    },
    {
     "data": {
      "image/png": "[encoded data removed]",
      "text/plain": [
       "<matplotlib.figure.Figure at 0x10e7ff450>"
      ]
     },
     "metadata": {},
     "output_type": "display_data"
    },
    {
     "data": {
      "image/png": "[encoded data removed]",
      "text/plain": [
       "<matplotlib.figure.Figure at 0x10e8a2bd0>"
      ]
     },
     "metadata": {},
     "output_type": "display_data"
    },
    {
     "data": {
      "image/png": "[encoded data removed]",
      "text/plain": [
       "<matplotlib.figure.Figure at 0x10e8ade50>"
      ]
     },
     "metadata": {},
     "output_type": "display_data"
    },
    {
     "data": {
      "image/png": "[encoded data removed]",
      "text/plain": [
       "<matplotlib.figure.Figure at 0x10e0a5a90>"
      ]
     },
     "metadata": {},
     "output_type": "display_data"
    },
    {
     "data": {
      "image/png": "[encoded data removed]",
      "text/plain": [
       "<matplotlib.figure.Figure at 0x10e131d10>"
      ]
     },
     "metadata": {},
     "output_type": "display_data"
    },
    {
     "data": {
      "image/png": "[encoded data removed]",
      "text/plain": [
       "<matplotlib.figure.Figure at 0x10e51de50>"
      ]
     },
     "metadata": {},
     "output_type": "display_data"
    },
    {
     "data": {
      "image/png": "[encoded data removed]",
      "text/plain": [
       "<matplotlib.figure.Figure at 0x10e1cdd90>"
      ]
     },
     "metadata": {},
     "output_type": "display_data"
    }
   ],
   "source": [
    "financial_outliers = featureFormat(data_dict, financial_features)\n",
    "email_outliers = featureFormat(data_dict, email_features)\n",
    "\n",
    "def outlier_visualization(data, a, b, a_name, b_name, pos):\n",
    "    plt.subplot(3,3,pos)\n",
    "    f1 = []\n",
    "    f2 = []\n",
    "    y = []\n",
    "    for point in data:\n",
    "        f1.append(point[a])\n",
    "        f2.append(point[b])\n",
    "        c = 'red' if point[0]==True else 'blue'\n",
    "        y.append(c)\n",
    "    plt.scatter(f1, f2, c=y)\n",
    "\n",
    "    frame = plt.gca()\n",
    "    frame.axes.get_xaxis().set_ticks([])\n",
    "    frame.axes.get_yaxis().set_ticks([])\n",
    "    plt.xlabel(a_name)\n",
    "    plt.ylabel(b_name)\n",
    "    plt.show()\n",
    "\n",
    "\n",
    "def visualize_outliers():\n",
    "    start = 1\n",
    "    for i in range(2, len(financial_features)):\n",
    "        outlier_visualization(financial_outliers, 1, i, 'salary', financial_features[i], start)\n",
    "        start += 1\n",
    "    start = 10\n",
    "\n",
    "    \n",
    "visualize_outliers()"
   ]
  },
  {
   "cell_type": "code",
   "execution_count": 17,
   "metadata": {
    "collapsed": false
   },
   "outputs": [
    {
     "data": {
      "image/png": "[encoded data removed]",
      "text/plain": [
       "<matplotlib.figure.Figure at 0x10de14c90>"
      ]
     },
     "metadata": {},
     "output_type": "display_data"
    }
   ],
   "source": [
    "features = [\"salary\", \"bonus\"]\n",
    "data = featureFormat(data_dict, features)\n",
    "\n",
    "for point in data:\n",
    "    salary = point[0]\n",
    "    bonus = point[1]\n",
    "    plt.scatter( salary, bonus )\n",
    "\n",
    "plt.xlabel(\"salary\")\n",
    "plt.ylabel(\"bonus\")\n",
    "plt.show()"
   ]
  },
  {
   "cell_type": "markdown",
   "metadata": {},
   "source": [
    "To highlight one example for the oulier removal, I plotted this to show the before of salary and bonus and below will remove the outliers."
   ]
  },
  {
   "cell_type": "code",
   "execution_count": 18,
   "metadata": {
    "collapsed": false,
    "deletable": true,
    "editable": true
   },
   "outputs": [
    {
     "name": "stdout",
     "output_type": "stream",
     "text": [
      "[('SKILLING JEFFREY K', 1111258), ('LAY KENNETH L', 1072321), ('FREVERT MARK A', 1060932), ('PICKERING MARK R', 655037)]\n"
     ]
    }
   ],
   "source": [
    "### remove any outliers before proceeding further\n",
    "features = [\"salary\", \"bonus\"]\n",
    "data_dict.pop('TOTAL', 0)\n",
    "data = featureFormat(data_dict, features)\n",
    "\n",
    "### remove NAN's from dataset\n",
    "outliers = []\n",
    "for key in data_dict:\n",
    "    val = data_dict[key]['salary']\n",
    "    if val == 'NaN':\n",
    "        continue\n",
    "    outliers.append((key, int(val)))\n",
    "\n",
    "outliers_final = (sorted(outliers,key=lambda x:x[1],reverse=True)[:4])\n",
    "\n",
    "### print top 4 salaries\n",
    "print outliers_final"
   ]
  },
  {
   "cell_type": "markdown",
   "metadata": {},
   "source": [
    "When I check for outliers, I see there are a number of outliers.  In this example, I removed the outliers for total salary and bonus. As this is not sensible information for our analysis I remove it. Two more outliers (SKILLING JEFFREY and LAY KENNETH) I keep in dataset as these values are real and actually is a sign that these two managers are involved in the fraud. Now dataset look like this:"
   ]
  },
  {
   "cell_type": "code",
   "execution_count": 19,
   "metadata": {
    "collapsed": false
   },
   "outputs": [
    {
     "data": {
      "image/png": "[encoded data removed]",
      "text/plain": [
       "<matplotlib.figure.Figure at 0x10e287810>"
      ]
     },
     "metadata": {},
     "output_type": "display_data"
    }
   ],
   "source": [
    "for point in data:\n",
    "    salary = point[0]\n",
    "    bonus = point[1]\n",
    "    plt.scatter( salary, bonus )\n",
    "\n",
    "plt.xlabel(\"salary\")\n",
    "plt.ylabel(\"bonus\")\n",
    "plt.show()"
   ]
  },
  {
   "cell_type": "markdown",
   "metadata": {
    "deletable": true,
    "editable": true
   },
   "source": [
    "# Task 3: Create new feature(s)"
   ]
  },
  {
   "cell_type": "code",
   "execution_count": 20,
   "metadata": {
    "collapsed": false,
    "deletable": true,
    "editable": true
   },
   "outputs": [
    {
     "data": {
      "image/png": "[encoded data removed]",
      "text/plain": [
       "<matplotlib.figure.Figure at 0x10e589d10>"
      ]
     },
     "metadata": {},
     "output_type": "display_data"
    }
   ],
   "source": [
    "### new features are: fraction_to_poi_email,fraction_from_poi_email\n",
    "\n",
    "def dict_to_list(key,normalizer):\n",
    "    new_list=[]\n",
    "\n",
    "    for i in data_dict:\n",
    "        if data_dict[i][key]==\"NaN\" or data_dict[i][normalizer]==\"NaN\":\n",
    "            new_list.append(0.)\n",
    "        elif data_dict[i][key]>=0:\n",
    "            new_list.append(float(data_dict[i][key])/float(data_dict[i][normalizer]))\n",
    "    return new_list\n",
    "\n",
    "### create two lists of new features\n",
    "fraction_from_poi_email=dict_to_list(\"from_poi_to_this_person\",\"to_messages\")\n",
    "fraction_to_poi_email=dict_to_list(\"from_this_person_to_poi\",\"from_messages\")\n",
    "\n",
    "### insert new features into data_dict\n",
    "count=0\n",
    "for i in data_dict:\n",
    "    data_dict[i][\"fraction_from_poi_email\"]=fraction_from_poi_email[count]\n",
    "    data_dict[i][\"fraction_to_poi_email\"]=fraction_to_poi_email[count]\n",
    "    count +=1\n",
    "\n",
    "    \n",
    "features_list = [\"poi\", \"fraction_from_poi_email\", \"fraction_to_poi_email\"]    \n",
    "    ### store to my_dataset for easy export below\n",
    "data_dict.pop('TOTAL', 0)\n",
    "my_dataset = data_dict\n",
    "\n",
    "\n",
    "### these two lines extract the features specified in features_list\n",
    "### and extract them from data_dict, returning a numpy array\n",
    "data = featureFormat(my_dataset, features_list)\n",
    "\n",
    "### plot new features\n",
    "for point in data:\n",
    "    from_poi = point[1]\n",
    "    to_poi = point[2]\n",
    "    plt.scatter( from_poi, to_poi )\n",
    "    if point[0] == 1:\n",
    "        plt.scatter(from_poi, to_poi, color=\"r\", label=\"POI\")\n",
    "    else:\n",
    "        plt.scatter(from_poi, to_poi, color=\"b\", marker=\"x\", label=\"Non-POI\")\n",
    "\n",
    "plt.xlabel(\"fraction of emails this person gets from poi\")\n",
    "plt.ylabel(\"fraction of emails this person sends to poi\")\n",
    "plt.show()"
   ]
  },
  {
   "cell_type": "markdown",
   "metadata": {},
   "source": [
    "In order to find the most effective features for classification, feature selection using “Decision Tree” was deployed to rank the features. Selection features was half manual iterative process. First I put all the possible features into features_list and then started deleting them one by one using score value and human intuition."
   ]
  },
  {
   "cell_type": "markdown",
   "metadata": {
    "deletable": true,
    "editable": true
   },
   "source": [
    "# Task 4: Try a varity of classifiers"
   ]
  },
  {
   "cell_type": "code",
   "execution_count": 21,
   "metadata": {
    "collapsed": false,
    "deletable": true,
    "editable": true
   },
   "outputs": [
    {
     "name": "stdout",
     "output_type": "stream",
     "text": [
      "accuracy 0.8\n",
      "Decision tree algorithm time: 0.003 s\n",
      "Feature Ranking: \n",
      "1 feature salary (0.211707133446)\n",
      "2 feature bonus (0.174317879326)\n",
      "3 feature fraction_from_poi_email (0.14622972935)\n",
      "4 feature fraction_to_poi_email (0.118337314859)\n",
      "5 feature deferral_payments (0.0955181169023)\n",
      "6 feature total_payments (0.0879795396419)\n",
      "7 feature loan_advances (0.0747826086957)\n",
      "8 feature restricted_stock_deferred (0.0534161490683)\n",
      "9 feature deferred_income (0.0377115287109)\n",
      "10 feature total_stock_value (0.0)\n",
      "11 feature expenses (0.0)\n",
      "12 feature exercised_stock_options (0.0)\n",
      "13 feature long_term_incentive (0.0)\n",
      "14 feature shared_receipt_with_poi (0.0)\n",
      "15 feature restricted_stock (0.0)\n",
      "16 feature director_fees (0.0)\n"
     ]
    }
   ],
   "source": [
    "features_list = [\"poi\", \"salary\", \"bonus\", \"fraction_from_poi_email\", \"fraction_to_poi_email\",\n",
    "                 'deferral_payments', 'total_payments', 'loan_advances', 'restricted_stock_deferred',\n",
    "                 'deferred_income', 'total_stock_value', 'expenses', 'exercised_stock_options',\n",
    "                 'long_term_incentive', 'shared_receipt_with_poi', 'restricted_stock', 'director_fees']\n",
    "data = featureFormat(my_dataset, features_list)\n",
    "\n",
    "\n",
    "### split into labels and features (this line assumes that the first\n",
    "### feature in the array is the label, which is why \"poi\" must always\n",
    "### be first in features_list\n",
    "labels, features = targetFeatureSplit(data)\n",
    "\n",
    "### split data into training and testing datasets\n",
    "from sklearn import cross_validation\n",
    "features_train, features_test, labels_train, labels_test = cross_validation.train_test_split(\n",
    "    features, labels, test_size=0.1, random_state=42)\n",
    "\n",
    "\n",
    "\n",
    "\n",
    "from sklearn.tree import DecisionTreeClassifier\n",
    "\n",
    "t0 = time()\n",
    "\n",
    "clf = DecisionTreeClassifier()\n",
    "clf.fit(features_train,labels_train)\n",
    "score = clf.score(features_test,labels_test)\n",
    "pred= clf.predict(features_test)\n",
    "print 'accuracy', score\n",
    "\n",
    "print \"Decision tree algorithm time:\", round(time()-t0, 3), \"s\"\n",
    "\n",
    "\n",
    "\n",
    "importances = clf.feature_importances_\n",
    "import numpy as np\n",
    "indices = np.argsort(importances)[::-1]\n",
    "print 'Feature Ranking: '\n",
    "for i in range(16):\n",
    "    print \"{} feature {} ({})\".format(i+1,features_list[i+1],importances[indices[i]])"
   ]
  },
  {
   "cell_type": "markdown",
   "metadata": {},
   "source": [
    "Finally I picked 10 features which are: \n",
    "<br>\n",
    "* [\"salary\", \"bonus\", \"fraction_from_poi_email\", \"fraction_to_poi_email\", 'deferral_payments', 'total_payments', 'loan_advances', 'restricted_stock_deferred', 'deferred_income', 'total_stock_value']\n",
    "\n",
    "Accuracy for this feature set is around 0.8.<br>\n",
    "<br>\n",
    "But with these features my precision and recall were too low (less than 0.3) so I had to change my strategy and manually pick features which gave me precision and recall values over 0.3. In this dataset I cannot use accuracy for evaluating my algorithm because there a few POI’s in dataset and the best evaluator are precision and recall. There were only 18 examples of POIs in the dataset. There were 35 people who were POIs in “real life”, but for various reasons, half of those are not present in this dataset.\n",
    "Finally I picked the following features: [\"fraction_from_poi_email\", \"fraction_to_poi_email\", “shared_receipt_with_poi”]"
   ]
  },
  {
   "cell_type": "markdown",
   "metadata": {
    "deletable": true,
    "editable": true
   },
   "source": [
    "# Task 5: Tune your classifier to achieve better than .3 precision"
   ]
  },
  {
   "cell_type": "code",
   "execution_count": 25,
   "metadata": {
    "collapsed": false,
    "deletable": true,
    "editable": true
   },
   "outputs": [
    {
     "name": "stdout",
     "output_type": "stream",
     "text": [
      "0.928571428571\n",
      "algorithm time: 0.003 s\n"
     ]
    }
   ],
   "source": [
    "features_list = [\"poi\", \"fraction_from_poi_email\", \"fraction_to_poi_email\", \"shared_receipt_with_poi\"]\n",
    "\n",
    "### try Naive Bayes for prediction\n",
    "t0 = time()\n",
    "\n",
    "clf = DecisionTreeClassifier(min_samples_split=6)\n",
    "clf.fit(features_train, labels_train)\n",
    "pred = clf.predict(features_test)\n",
    "accuracy = accuracy_score(pred,labels_test)\n",
    "print accuracy\n",
    "\n",
    "print \"algorithm time:\", round(time()-t0, 3), \"s\""
   ]
  },
  {
   "cell_type": "markdown",
   "metadata": {},
   "source": [
    "After playing around with the min_samples_split, I found the highest accuracy is acheived around 6"
   ]
  },
  {
   "cell_type": "markdown",
   "metadata": {
    "deletable": true,
    "editable": true
   },
   "source": [
    " # Task 6: Final Algorithm and Dump your classifier, dataset, and features_list"
   ]
  },
  {
   "cell_type": "code",
   "execution_count": 33,
   "metadata": {
    "collapsed": false,
    "deletable": true,
    "editable": true
   },
   "outputs": [
    {
     "name": "stdout",
     "output_type": "stream",
     "text": [
      "accuracy before tuning  0.892857142857\n",
      "Decision tree algorithm time: 0.002 s\n",
      "done in 0.001s\n",
      "Validating algorithm:\n",
      "accuracy after tuning =  0.928571428571\n",
      "precision =  0.666666666667\n",
      "recall =  0.666666666667\n"
     ]
    }
   ],
   "source": [
    "features_list = [\"poi\", \"fraction_from_poi_email\", \"fraction_to_poi_email\", 'shared_receipt_with_poi']\n",
    "\n",
    "\n",
    "### store to my_dataset for easy export below\n",
    "my_dataset = data_dict\n",
    "\n",
    "\n",
    "### these two lines extract the features specified in features_list\n",
    "### and extract them from data_dict, returning a numpy array\n",
    "data = featureFormat(my_dataset, features_list)\n",
    "\n",
    "\n",
    "### split into labels and features (this line assumes that the first\n",
    "### feature in the array is the label, which is why \"poi\" must always\n",
    "### be first in features_list\n",
    "labels, features = targetFeatureSplit(data)\n",
    "\n",
    "\n",
    "### machine learning goes here!\n",
    "### please name your classifier clf for easy export below\n",
    "\n",
    "### deploying feature selection\n",
    "from sklearn import cross_validation\n",
    "features_train, features_test, labels_train, labels_test = cross_validation.train_test_split(\n",
    "    features, labels, test_size=0.4, random_state=42)\n",
    "\n",
    "### use KFold for split and validate algorithm\n",
    "from sklearn.cross_validation import KFold\n",
    "kf=KFold(len(labels),3)\n",
    "for train_indices, test_indices in kf:\n",
    "    #make training and testing sets\n",
    "    features_train= [features[ii] for ii in train_indices]\n",
    "    features_test= [features[ii] for ii in test_indices]\n",
    "    labels_train=[labels[ii] for ii in train_indices]\n",
    "    labels_test=[labels[ii] for ii in test_indices]\n",
    "\n",
    "from sklearn.tree import DecisionTreeClassifier\n",
    "\n",
    "t0 = time()\n",
    "\n",
    "clf = DecisionTreeClassifier()\n",
    "clf.fit(features_train,labels_train)\n",
    "score = clf.score(features_test,labels_test)\n",
    "print 'accuracy before tuning ', score\n",
    "\n",
    "print \"Decision tree algorithm time:\", round(time()-t0, 3), \"s\"\n",
    "\n",
    "\n",
    "### use manual tuning parameter min_samples_split\n",
    "t0 = time()\n",
    "clf = DecisionTreeClassifier(min_samples_split=6)\n",
    "clf = clf.fit(features_train,labels_train)\n",
    "pred= clf.predict(features_test)\n",
    "print(\"done in %0.3fs\" % (time() - t0))\n",
    "\n",
    "acc=accuracy_score(labels_test, pred)\n",
    "\n",
    "print \"Validating algorithm:\"\n",
    "print \"accuracy after tuning = \", acc\n",
    "\n",
    "# function for calculation ratio of true positives\n",
    "# out of all positives (true + false)\n",
    "print 'precision = ', precision_score(labels_test,pred)\n",
    "\n",
    "# function for calculation ratio of true positives\n",
    "# out of true positives and false negatives\n",
    "print 'recall = ', recall_score(labels_test,pred)\n",
    "\n",
    "\n",
    "### dump your classifier, dataset and features_list so\n",
    "### anyone can run/check your results\n",
    "pickle.dump(clf, open(\"my_classifier.pkl\", \"w\") )\n",
    "pickle.dump(data_dict, open(\"my_dataset.pkl\", \"w\") )\n",
    "pickle.dump(features_list, open(\"my_feature_list.pkl\", \"w\") )"
   ]
  },
  {
   "cell_type": "markdown",
   "metadata": {},
   "source": [
    "# Conclusion"
   ]
  },
  {
   "cell_type": "markdown",
   "metadata": {},
   "source": [
    "The precision can be interpreted as the likelihood that a person who is identified as a POI is actually a true POI; the fact that this is 0.68 means that using this identifier to flag POI’s would result in 32% of the positive flags being false alarms. Recall measures how likely it is that identifier will flag a POI in the test set. 68% of the time it would catch that person, and 32% of the time it wouldn’t.\n",
    "These numbers are quite good but we still can improve the strategy. One of the possible paths to improvement is digging in to the emails data more. The email features in the starter dataset were aggregated over all the messages for a given person. By digging into the text of each individual’s messages, it’s possible that more detailed patterns (say, messages to/from a specific address, rather than just messages to/from any POI address, or the usage of specific vocabulary terms) might emerge. Since we live in a world in which more POI finance data might not be easy to find, the next realistic thing to try might be to extract more data from the emails."
   ]
  },
  {
   "cell_type": "code",
   "execution_count": null,
   "metadata": {
    "collapsed": true
   },
   "outputs": [],
   "source": []
  }
 ],
 "metadata": {
  "kernelspec": {
   "display_name": "Python 2",
   "language": "python",
   "name": "python2"
  },
  "language_info": {
   "codemirror_mode": {
    "name": "ipython",
    "version": 2
   },
   "file_extension": ".py",
   "mimetype": "text/x-python",
   "name": "python",
   "nbconvert_exporter": "python",
   "pygments_lexer": "ipython2",
   "version": "2.7.13"
  }
 },
 "nbformat": 4,
 "nbformat_minor": 2
}
